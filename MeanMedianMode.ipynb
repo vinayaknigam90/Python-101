{
 "cells": [
  {
   "cell_type": "markdown",
   "metadata": {
    "deletable": true,
    "editable": true
   },
   "source": [
    "# Mean, Median, Mode, and introducing NumPy"
   ]
  },
  {
   "cell_type": "markdown",
   "metadata": {
    "deletable": true,
    "editable": true
   },
   "source": [
    "## Mean vs. Median"
   ]
  },
  {
   "cell_type": "markdown",
   "metadata": {
    "deletable": true,
    "editable": true
   },
   "source": [
    "Let's create some fake income data, centered around 27,000 with a normal distribution and standard deviation of 15,000, with 10,000 data points. (We'll discuss those terms more later, if you're not familiar with them.)\n",
    "\n",
    "Then, compute the mean (average) - it should be close to 27,000:"
   ]
  },
  {
   "cell_type": "code",
   "execution_count": 2,
   "metadata": {
    "collapsed": false,
    "deletable": true,
    "editable": true
   },
   "outputs": [
    {
     "data": {
      "text/plain": [
       "27108.302794295687"
      ]
     },
     "execution_count": 2,
     "metadata": {},
     "output_type": "execute_result"
    }
   ],
   "source": [
    "import numpy as np\n",
    "\n",
    "#normal(item around which ND occurs,standard deviation,no. of data points )\n",
    "incomes = np.random.normal(27000, 15000, 10000)\n",
    "np.mean(incomes)"
   ]
  },
  {
   "cell_type": "markdown",
   "metadata": {
    "deletable": true,
    "editable": true
   },
   "source": [
    "We can segment the income data into 50 buckets, and plot it as a histogram:"
   ]
  },
  {
   "cell_type": "code",
   "execution_count": 7,
   "metadata": {
    "collapsed": false,
    "deletable": true,
    "editable": true
   },
   "outputs": [
    {
     "data": {
      "image/png": "[encoded data removed]",
      "text/plain": [
       "<matplotlib.figure.Figure at 0x11c499160>"
      ]
     },
     "metadata": {},
     "output_type": "display_data"
    }
   ],
   "source": [
    "%matplotlib inline\n",
    "import matplotlib.pyplot as plt\n",
    "plt.hist(incomes, 50)\n",
    "plt.show()"
   ]
  },
  {
   "cell_type": "markdown",
   "metadata": {
    "deletable": true,
    "editable": true
   },
   "source": [
    "Now compute the median - since we have a nice, even distribution it too should be close to 27,000:"
   ]
  },
  {
   "cell_type": "code",
   "execution_count": 8,
   "metadata": {
    "collapsed": false,
    "deletable": true,
    "editable": true
   },
   "outputs": [
    {
     "data": {
      "text/plain": [
       "26948.39636291725"
      ]
     },
     "execution_count": 8,
     "metadata": {},
     "output_type": "execute_result"
    }
   ],
   "source": [
    "np.median(incomes)"
   ]
  },
  {
   "cell_type": "markdown",
   "metadata": {
    "deletable": true,
    "editable": true
   },
   "source": [
    "Now we'll add Donald Trump into the mix. Darn income inequality!"
   ]
  },
  {
   "cell_type": "code",
   "execution_count": 11,
   "metadata": {
    "collapsed": false,
    "deletable": true,
    "editable": true
   },
   "outputs": [],
   "source": [
    "incomes = np.append(incomes, [1000000000])"
   ]
  },
  {
   "cell_type": "markdown",
   "metadata": {
    "deletable": true,
    "editable": true
   },
   "source": [
    "The median won't change much, but the mean does:"
   ]
  },
  {
   "cell_type": "code",
   "execution_count": 13,
   "metadata": {
    "collapsed": false,
    "deletable": true,
    "editable": true
   },
   "outputs": [
    {
     "data": {
      "text/plain": [
       "26954.091053998898"
      ]
     },
     "execution_count": 13,
     "metadata": {},
     "output_type": "execute_result"
    }
   ],
   "source": [
    "np.median(incomes)"
   ]
  },
  {
   "cell_type": "code",
   "execution_count": 14,
   "metadata": {
    "collapsed": false,
    "deletable": true,
    "editable": true
   },
   "outputs": [
    {
     "data": {
      "text/plain": [
       "227062.89021625245"
      ]
     },
     "execution_count": 14,
     "metadata": {},
     "output_type": "execute_result"
    }
   ],
   "source": [
    "np.mean(incomes)"
   ]
  },
  {
   "cell_type": "markdown",
   "metadata": {
    "deletable": true,
    "editable": true
   },
   "source": [
    "## Mode"
   ]
  },
  {
   "cell_type": "markdown",
   "metadata": {
    "deletable": true,
    "editable": true
   },
   "source": [
    "Next, let's generate some fake age data for 500 people:"
   ]
  },
  {
   "cell_type": "code",
   "execution_count": 17,
   "metadata": {
    "collapsed": false,
    "deletable": true,
    "editable": true
   },
   "outputs": [
    {
     "data": {
      "text/plain": [
       "array([747, 760, 616, 784, 440, 661, 934, 519, 519, 194, 765, 749, 600,\n",
       "       801, 301, 811, 744, 165, 370, 196, 903, 900, 447, 795, 653, 579,\n",
       "       444, 331, 866, 550, 421, 306, 209, 844, 120, 243, 798, 714, 446,\n",
       "       783, 791, 905, 114, 604, 866, 157, 920, 674, 738, 773, 366, 573,\n",
       "       224, 776, 557, 444, 315, 422, 969, 699, 398, 457, 134, 810, 568,\n",
       "       723, 889, 947, 579, 804, 986, 757, 414, 616, 299, 599, 859, 642,\n",
       "       157, 908, 230, 322, 487, 730, 118, 241, 778, 961, 461, 288, 680,\n",
       "       545, 345, 707, 383, 495, 989, 786, 637, 414, 335, 571, 511, 746,\n",
       "       590, 647, 983, 915, 952, 926, 186, 693, 764, 320, 390, 145, 453,\n",
       "       969, 151, 930, 949, 532, 105, 741, 443, 913, 494, 144, 128, 375,\n",
       "       102, 814, 215, 144, 631, 413, 771, 726, 954, 168, 928, 196, 352,\n",
       "       958, 877, 830, 224, 187, 306, 433, 904, 759, 863, 787, 410, 205,\n",
       "       191, 646, 271, 855, 846, 132, 870, 708, 730, 743, 510, 622, 609,\n",
       "       830, 715, 311, 109, 572, 291, 104, 281, 189, 522, 852, 533, 126,\n",
       "       972, 372, 876, 328, 344, 334, 214, 811, 356, 890, 771, 925, 197,\n",
       "       315, 304, 221, 257, 710, 447, 126, 734, 383, 659, 264, 890, 211,\n",
       "       731, 876, 503, 677, 938, 955, 662, 613, 870, 520, 893, 175, 572,\n",
       "       209, 541, 688, 511, 705, 187, 561, 382, 188, 509, 769, 740, 611,\n",
       "       966, 736, 181, 280, 915, 887, 853, 510, 137, 817, 284, 461, 840,\n",
       "       666, 886, 779, 889, 572, 744, 885, 871, 691, 940, 668, 976, 176,\n",
       "       126, 458, 762, 525, 452, 575, 491, 139, 861, 574, 825, 541, 273,\n",
       "       127, 244, 253, 583, 303, 506, 306, 325, 397, 275, 417, 611, 728,\n",
       "       967, 347, 750, 904, 222, 238, 291, 176, 334, 373, 700, 793, 589,\n",
       "       749, 388, 454, 955, 458, 260, 303, 575, 713, 244, 224, 822, 496,\n",
       "       101, 537, 486, 111, 583, 850, 742, 964, 556, 466, 647, 807, 935,\n",
       "       331, 926, 245, 954, 785, 572, 521, 300, 195, 239, 952, 615, 229,\n",
       "       287, 716, 624, 205, 258, 662, 970, 736, 834, 981, 335, 165, 538,\n",
       "       935, 598, 757, 947, 915, 652, 576, 489, 197, 301, 744, 296, 470,\n",
       "       671, 629, 295, 351, 567, 956, 531, 243, 395, 785, 882, 741, 925,\n",
       "       814, 328, 962, 598, 631, 266, 349, 473, 316, 594, 269, 602, 378,\n",
       "       753, 279, 263, 219, 212, 652, 201, 225, 591, 117, 445, 774, 264,\n",
       "       762, 504, 424, 249, 287, 659, 312, 295, 539, 206, 729, 407, 545,\n",
       "       264, 296, 821, 262, 518, 107, 244, 416, 712, 735, 698, 195, 712,\n",
       "       377, 875, 343, 786, 514, 737, 529, 390, 543, 148, 589, 685, 865,\n",
       "       599, 464, 540, 199, 233, 750, 541, 493, 708, 832, 930, 393, 398,\n",
       "       948, 474, 122, 181, 362, 394, 226, 523, 949, 898, 165, 326, 820,\n",
       "       320, 967, 637, 985, 161, 328, 519, 104, 795, 169, 355, 702, 388,\n",
       "       139, 971, 431, 155, 941, 776, 963, 882, 654, 157, 417, 853, 696,\n",
       "       919, 649, 726, 456, 543, 408])"
      ]
     },
     "execution_count": 17,
     "metadata": {},
     "output_type": "execute_result"
    }
   ],
   "source": [
    "ages = np.random.randint(100, high=990, size=500)\n",
    "ages"
   ]
  },
  {
   "cell_type": "code",
   "execution_count": 18,
   "metadata": {
    "collapsed": false,
    "deletable": true,
    "editable": true
   },
   "outputs": [
    {
     "data": {
      "text/plain": [
       "ModeResult(mode=array([572]), count=array([4]))"
      ]
     },
     "execution_count": 18,
     "metadata": {},
     "output_type": "execute_result"
    }
   ],
   "source": [
    "from scipy import stats\n",
    "stats.mode(ages)"
   ]
  },
  {
   "cell_type": "code",
   "execution_count": null,
   "metadata": {
    "collapsed": false,
    "deletable": true,
    "editable": true
   },
   "outputs": [],
   "source": []
  }
 ],
 "metadata": {
  "kernelspec": {
   "display_name": "Python 3",
   "language": "python",
   "name": "python3"
  },
  "language_info": {
   "codemirror_mode": {
    "name": "ipython",
    "version": 3
   },
   "file_extension": ".py",
   "mimetype": "text/x-python",
   "name": "python",
   "nbconvert_exporter": "python",
   "pygments_lexer": "ipython3",
   "version": "3.5.2"
  }
 },
 "nbformat": 4,
 "nbformat_minor": 0
}
